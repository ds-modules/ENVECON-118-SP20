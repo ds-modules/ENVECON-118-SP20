{
 "cells": [
  {
   "cell_type": "markdown",
   "metadata": {},
   "source": [
    "# Lecture 11 - EEP 118 Spring 2020¶\n"
   ]
  },
  {
   "attachments": {},
   "cell_type": "markdown",
   "metadata": {},
   "source": [
    "This is the notebook for Lecture 11 where we will see how average Price of Nike Stocks change when the Nike shoe of Zion Williams exploded during a NCAA basketball game in Feb 2019. \n",
    "\n",
    "Research question: Can we reject the null hypothesis that Zion’s shoe explosion was not correlated with a change in Nike Stock prices at 5 % significance level, or at 1 % significance? \n",
    "\n",
    "Research Strategy: Collect Data on hourly Nike Stock Prices  on Feb 20th (pre shoe explosion) and on Feb 21 (next day after shoe explosion)\n",
    "\n",
    "\n",
    "\n",
    "To run hit the i>|Run button on top middle bar and keep hitting and it will run line by line,\n",
    "\n",
    "OR\n",
    "\n",
    "To run a line that starts with In [ ]:  highlight the content and hit CONTROL ENTER at same time"
   ]
  },
  {
   "cell_type": "code",
   "execution_count": null,
   "metadata": {},
   "outputs": [],
   "source": [
    "#call all needed packages\n",
    "library(data.table)\n",
    "library(dplyr)\n",
    "library(ggplot2)\n",
    "library(lubridate)\n",
    "library(haven)\n",
    "library(foreign)"
   ]
  },
  {
   "cell_type": "markdown",
   "metadata": {},
   "source": [
    "Read the data into R program and see the top of the data frame"
   ]
  },
  {
   "cell_type": "code",
   "execution_count": null,
   "metadata": {},
   "outputs": [],
   "source": [
    "# Read in data and see the top rows to see column names etc\n",
    "StockData <- read_dta(\"Lecture11_stockPricesn.dta\")\n",
    "head(StockData)"
   ]
  },
  {
   "cell_type": "markdown",
   "metadata": {},
   "source": [
    "Change the names of the variables in the first four columns of the data you just read into R"
   ]
  },
  {
   "cell_type": "code",
   "execution_count": null,
   "metadata": {},
   "outputs": [],
   "source": [
    "#Renaming first four columns names of variables in data frame StockData\n",
    "colnames(StockData) <- c(\"Hour\", \"Nike\", \"Adidas\", \"UnderArmour\")"
   ]
  },
  {
   "cell_type": "markdown",
   "metadata": {},
   "source": [
    "Create a variable that is equal to one after the explosion and zero before the explosion"
   ]
  },
  {
   "cell_type": "code",
   "execution_count": null,
   "metadata": {},
   "outputs": [],
   "source": [
    "##Defining Post \"Shoe Explodes\" Dummy\n",
    "StockData$PostExplosion <- as.numeric(StockData$Hour >= 9)"
   ]
  },
  {
   "cell_type": "markdown",
   "metadata": {},
   "source": [
    "Scatter Plot Price of Nike and Hour indicator and note the exact hour in the data of explosion in red"
   ]
  },
  {
   "cell_type": "code",
   "execution_count": null,
   "metadata": {},
   "outputs": [],
   "source": [
    "#scatter plot for nike with explosion marked\n",
    "NikePlot <- ggplot(StockData, aes(x = Hour, y = Nike))\n",
    "#NikePlot <- NikePlot + geom_smooth(se=FALSE) + geom_point() + geom_line(color=\"black\") + geom_vline(xintercept=8.5, colour=\"Red\")\n",
    "NikePlot <- NikePlot + geom_point() + geom_line(color=\"black\") + geom_vline(xintercept=8.5, colour=\"Red\")\n",
    "NikePlot <- NikePlot + theme_bw() + theme(plot.title = element_text(hjust = 0.5)) + \n",
    "  scale_x_continuous(breaks=(seq(1,16,4)), labels=c(\"9am\", \"1pm\", \"9am\", \"1pm\"))\n",
    "NikePlot <- NikePlot + xlab(\"Hour\") + ylab(\"Stock Price\") + ggtitle(\"Nike Stock Price: February 20-21, 2019\")\n",
    "NikePlot"
   ]
  },
  {
   "cell_type": "markdown",
   "metadata": {},
   "source": [
    "Summary Stats before and after Nike Shoe Explosion of Nike Stock Price. Figure out on your own the R commands for this one."
   ]
  },
  {
   "cell_type": "markdown",
   "metadata": {},
   "source": []
  },
  {
   "attachments": {},
   "cell_type": "markdown",
   "metadata": {},
   "source": [
    "If you get sample average and the variance of the sample average price for Nike before explosion, you see that for Feb 20th - BEFORE\n",
    "\n",
    " Sample Average is 84.7 \n",
    "\n",
    "Variance  of Sample\n",
    "Average is  =\n",
    "(0.175*0.175)/8 = A\n"
   ]
  },
  {
   "attachments": {},
   "cell_type": "markdown",
   "metadata": {},
   "source": [
    "Feb 21st - AFTER\n",
    "\n",
    " Sample Average is 83.7 \n",
    "\n",
    "Variance of Sample Average  is= (0.229*0.229)/8= B   "
   ]
  },
  {
   "attachments": {},
   "cell_type": "markdown",
   "metadata": {},
   "source": [
    "Daily Assignment Lecture 11, do by hand the Test difference in sample average stock prices for 21 and 20 of Feb. See solutions in Lecture Notes."
   ]
  },
  {
   "cell_type": "markdown",
   "metadata": {},
   "source": [
    "# Linear Regression Approach"
   ]
  },
  {
   "cell_type": "markdown",
   "metadata": {},
   "source": [
    "The test of Difference in averages can be formally done using a linear regression. Namely, a regression of Nike Stock Price on a Hour trend and Post Exposion indicator. The coefficient of the Post Explosion indicator measures exactly the difference in average Nike stock Prices from after relative to before the explosion. The regression not only will give an estimate of the difference i average, it will also give an estimate of the standard error of the difference in average and the t statistic of that difference in average, given the sample of 16 hours stock price data we collected. "
   ]
  },
  {
   "cell_type": "code",
   "execution_count": null,
   "metadata": {},
   "outputs": [],
   "source": [
    "#regression\n",
    "regLecture11 <- lm(Nike ~ Hour+PostExplosion,StockData)\n",
    "#show output\n",
    "summary(regLecture11)"
   ]
  },
  {
   "attachments": {},
   "cell_type": "markdown",
   "metadata": {},
   "source": [
    "What do you see? \n",
    "\n",
    "Interpretation, controlling for an hourly trend (Hour),  the explosion is correlated with a significant 1.27 dollar drop of Nike Stock prices (coefficient post Explosion Variable) and is statistically significant from zero, at 5%, 1%, 0.001 % signif. This is because the p value is 2.44e-05 = p value is 0.0000244."
   ]
  },
  {
   "attachments": {},
   "cell_type": "markdown",
   "metadata": {},
   "source": [
    "If you want to know if -1.27 dollars is a big drop, compare it to the baseline average of 84.61 dollars (the Intercept). That is -1.27/84.61 is about - 0.015, or 1.5%, a 1.5 percent drop.\n",
    "\n",
    "Another way is to run the Reg on Log of Nike Price. Then the coeffic on explosion  gives you a percent interpretation… lets see  "
   ]
  },
  {
   "cell_type": "markdown",
   "metadata": {},
   "source": [
    "Generate Log of Stock Price to then run linear regression in logs"
   ]
  },
  {
   "cell_type": "code",
   "execution_count": null,
   "metadata": {},
   "outputs": [],
   "source": [
    "#generate log Nike Stock Price\n",
    "StockData$NikeLog<-log(StockData$Nike)\n",
    "#regression in logs\n",
    "regLecture11Log <- lm(NikeLog ~ Hour+PostExplosion,StockData)\n",
    "#show output\n",
    "summary(regLecture11Log)"
   ]
  },
  {
   "attachments": {},
   "cell_type": "markdown",
   "metadata": {},
   "source": [
    "Interpretation, controlling for an hourly trend (counter),  the explosion is correlated with a significant 1.5 percent drop of Nike Stock prices.\n",
    "\n",
    "The coefficient of the post Explosion variable, using Log Nike Price as the depedendent variable, is - 0.015, and is statistically significant from zero, at 5%, 1%, 0.001 % signif level, because it's p value is 2.48e-05 = 0.0000248."
   ]
  },
  {
   "cell_type": "markdown",
   "metadata": {},
   "source": [
    "# Take Away so far"
   ]
  },
  {
   "attachments": {},
   "cell_type": "markdown",
   "metadata": {},
   "source": [
    "Research question: Can we reject the null hypothesis that Zion’s shoe explosion was not correlated with a change in Nike Stock prices? \n",
    "\n",
    "Research Strategy: Collect Data on hourly Nike Stock Prices  on Feb 20th (pre shoe explosion) and on Feb 21 (next day after shoe explosion)\n",
    "\n",
    "TODAY, with material up to today: Tested difference in sample average stock prices for 21 and 20 of Feb\n",
    "\n",
    "TODAY, Let Y=Nike prices (also log(price).  reg prices on a hour trend and “after explosion dummy” and tested significance of “after explosion” coefficient\n",
    "THIS is a before and AFTER analysis, we can say if we find statistical evidence in favor of explosion being correlated with a change in Nike stock or not, all else constant. \n",
    "\n",
    "But we cannot say it CAUSED the change in price.\n",
    "\n"
   ]
  },
  {
   "cell_type": "markdown",
   "metadata": {},
   "source": [
    "# Later in Class what we are going towards is CAUSALITY"
   ]
  },
  {
   "attachments": {},
   "cell_type": "markdown",
   "metadata": {},
   "source": [
    "Research Strategy for Causality: \n",
    "Collect Data on hourly Nike and UA and Adidas Stock Prices  on Feb 20 and 21 \n",
    "\n",
    "That is, get data also for a control group that captures anything else that could have happened to stock prices for sports companies from 20 and 21 of Feb that had nothing to do with the explosion, e.g. get stock prices for Adidas and Under Armour.\n",
    "\n",
    "FIRST : Check if Adidas and Under Armour, or average of (UA and Adidas),  stock prices were trending similarly to Nike stock prices before the explosion\n",
    "\n",
    "Then we have a good counterfactual, Of what would have happened in Feb 21 relative to Feb 20 to Nike if there was no explosion (using the change in average (UA and Adidas) stock prices as that control change)\n",
    "\n",
    "Then the causal effect of the explosion on Nike on Feb 21 is change in Nike MINUS change in average(UA and Adidas). We call this Difference in Differences. \n",
    "\n",
    " I will return at end of semester to do the rest with you all, and also I will share in an announcement a fun blog post I co authored with a Student (Scott Kaplan) on my complete Econometric analysis  Nike Lab. "
   ]
  }
 ],
 "metadata": {
  "kernelspec": {
   "display_name": "R",
   "language": "R",
   "name": "ir"
  },
  "language_info": {
   "codemirror_mode": "r",
   "file_extension": ".r",
   "mimetype": "text/x-r-source",
   "name": "R",
   "pygments_lexer": "r",
   "version": "3.6.1"
  }
 },
 "nbformat": 4,
 "nbformat_minor": 2
}
